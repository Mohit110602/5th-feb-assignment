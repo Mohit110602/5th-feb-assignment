{
 "cells": [
  {
   "cell_type": "code",
   "execution_count": 17,
   "id": "cfdc1aa7-564e-46b6-ba26-be14f9d54f34",
   "metadata": {},
   "outputs": [
    {
     "data": {
      "text/plain": [
       "'Test is successful'"
      ]
     },
     "execution_count": 17,
     "metadata": {},
     "output_type": "execute_result"
    }
   ],
   "source": [
    "#1)\n",
    "'''Class is a blueprint or templete which contains several variables or methods whereas \n",
    "Object is a real world entity of that class.'''\n",
    "class test:\n",
    "    def test1(self):\n",
    "        return 'Test is successful'\n",
    "a=test()\n",
    "a.test1()"
   ]
  },
  {
   "cell_type": "code",
   "execution_count": 16,
   "id": "c3e7fdf6-2bc0-4387-adff-5b995893bfbf",
   "metadata": {},
   "outputs": [
    {
     "data": {
      "text/plain": [
       "'The four pillars of OOPs are:\\n   i) Polymorphism\\n  ii) Encapsulation\\n iii) Inheritance\\n  iv) Abstraction'"
      ]
     },
     "execution_count": 16,
     "metadata": {},
     "output_type": "execute_result"
    }
   ],
   "source": [
    "#2)\n",
    "'''The four pillars of OOPs are:\n",
    "   i) Polymorphism\n",
    "  ii) Encapsulation\n",
    " iii) Inheritance\n",
    "  iv) Abstraction'''\n",
    "  "
   ]
  },
  {
   "cell_type": "code",
   "execution_count": 15,
   "id": "34699f93-484a-469b-a528-8460fd15bbd8",
   "metadata": {},
   "outputs": [
    {
     "data": {
      "text/plain": [
       "'John ,Welcome to Delhi'"
      ]
     },
     "execution_count": 15,
     "metadata": {},
     "output_type": "execute_result"
    }
   ],
   "source": [
    "#3)\n",
    "'''the __init__() function is used to pass the values in method of a class. It is known as constructor.'''\n",
    "class Wel:\n",
    "    def __init__(self,name):\n",
    "        self.name=name\n",
    "    def ret(self):\n",
    "        return self.name+' ,Welcome to Delhi'\n",
    "a=Wel('John')\n",
    "a.ret()\n"
   ]
  },
  {
   "cell_type": "code",
   "execution_count": 14,
   "id": "1fdc0d84-c3ce-4595-8526-b88767bd2915",
   "metadata": {},
   "outputs": [
    {
     "data": {
      "text/plain": [
       "'Self is used in methods to point it towards the class. It is not a reserved keyword, any word can be used in place of self'"
      ]
     },
     "execution_count": 14,
     "metadata": {},
     "output_type": "execute_result"
    }
   ],
   "source": [
    "#4)\n",
    "'''Self is used in methods to point it towards the class. It is not a reserved keyword, any word can be used in place of self'''\n"
   ]
  },
  {
   "cell_type": "code",
   "execution_count": 13,
   "id": "9b7e908b-b2b8-4091-8d68-71239090d94a",
   "metadata": {},
   "outputs": [
    {
     "name": "stdout",
     "output_type": "stream",
     "text": [
      "abc\n",
      "lmn\n"
     ]
    }
   ],
   "source": [
    "#5)\n",
    "'''Inheritance is a pillar in OOPs, it basically define a class inherited for another class'''\n",
    "class c1:\n",
    "    def test(s):\n",
    "        return 'abc'\n",
    "class c2(c1):\n",
    "    def test1(s):\n",
    "        return 'lmn'\n",
    "a=c2()\n",
    "print(a.test())\n",
    "print(a.test1())"
   ]
  },
  {
   "cell_type": "code",
   "execution_count": null,
   "id": "748a0b69-ece5-475c-96fc-c821b02b1764",
   "metadata": {},
   "outputs": [],
   "source": []
  },
  {
   "cell_type": "code",
   "execution_count": null,
   "id": "73f3a399-469e-4086-b7fd-2b798ba8324d",
   "metadata": {},
   "outputs": [],
   "source": []
  },
  {
   "cell_type": "code",
   "execution_count": null,
   "id": "615cd9aa-cb4f-4357-bae0-aa4e28bde7bb",
   "metadata": {},
   "outputs": [],
   "source": []
  }
 ],
 "metadata": {
  "kernelspec": {
   "display_name": "Python 3 (ipykernel)",
   "language": "python",
   "name": "python3"
  },
  "language_info": {
   "codemirror_mode": {
    "name": "ipython",
    "version": 3
   },
   "file_extension": ".py",
   "mimetype": "text/x-python",
   "name": "python",
   "nbconvert_exporter": "python",
   "pygments_lexer": "ipython3",
   "version": "3.10.8"
  }
 },
 "nbformat": 4,
 "nbformat_minor": 5
}
